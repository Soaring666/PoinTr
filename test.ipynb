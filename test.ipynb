{
 "cells": [
  {
   "cell_type": "code",
   "execution_count": 1,
   "metadata": {},
   "outputs": [],
   "source": [
    "import torch"
   ]
  },
  {
   "cell_type": "code",
   "execution_count": 2,
   "metadata": {},
   "outputs": [
    {
     "data": {
      "text/plain": [
       "tensor([[-0.7821,  1.0752,  0.4269, -0.1468],\n",
       "        [ 0.4429, -0.6634, -0.3814,  0.0851],\n",
       "        [-0.6316,  0.0389,  0.8515,  1.0144]])"
      ]
     },
     "execution_count": 2,
     "metadata": {},
     "output_type": "execute_result"
    }
   ],
   "source": [
    "a = torch.randn(3, 4)\n",
    "a"
   ]
  },
  {
   "cell_type": "code",
   "execution_count": 3,
   "metadata": {},
   "outputs": [
    {
     "data": {
      "text/plain": [
       "tensor([[-0.7821],\n",
       "        [ 1.0752],\n",
       "        [ 0.4269],\n",
       "        [-0.1468],\n",
       "        [ 0.4429],\n",
       "        [-0.6634],\n",
       "        [-0.3814],\n",
       "        [ 0.0851],\n",
       "        [-0.6316],\n",
       "        [ 0.0389],\n",
       "        [ 0.8515],\n",
       "        [ 1.0144]])"
      ]
     },
     "execution_count": 3,
     "metadata": {},
     "output_type": "execute_result"
    }
   ],
   "source": [
    "a = a.reshape(12, 1)\n",
    "a"
   ]
  },
  {
   "cell_type": "code",
   "execution_count": 4,
   "metadata": {},
   "outputs": [
    {
     "data": {
      "text/plain": [
       "tensor([[-0.7821,  1.0752,  0.4269, -0.1468,  0.4429, -0.6634, -0.3814,  0.0851,\n",
       "         -0.6316,  0.0389,  0.8515,  1.0144]])"
      ]
     },
     "execution_count": 4,
     "metadata": {},
     "output_type": "execute_result"
    }
   ],
   "source": [
    "a = a.reshape(1, 12)\n",
    "a"
   ]
  },
  {
   "cell_type": "code",
   "execution_count": 8,
   "metadata": {},
   "outputs": [
    {
     "data": {
      "text/plain": [
       "tensor([[-0.7821,  1.0752,  0.4269, -0.1468],\n",
       "        [ 0.4429, -0.6634, -0.3814,  0.0851],\n",
       "        [-0.6316,  0.0389,  0.8515,  1.0144]])"
      ]
     },
     "execution_count": 8,
     "metadata": {},
     "output_type": "execute_result"
    }
   ],
   "source": [
    "a = a.reshape(3, 4)\n",
    "a"
   ]
  },
  {
   "cell_type": "code",
   "execution_count": 9,
   "metadata": {},
   "outputs": [
    {
     "data": {
      "text/plain": [
       "tensor([[[-0.7821,  1.0752,  0.4269, -0.1468]],\n",
       "\n",
       "        [[ 0.4429, -0.6634, -0.3814,  0.0851]],\n",
       "\n",
       "        [[-0.6316,  0.0389,  0.8515,  1.0144]]])"
      ]
     },
     "execution_count": 9,
     "metadata": {},
     "output_type": "execute_result"
    }
   ],
   "source": [
    "a = a.view(3, 1, 4)\n",
    "a"
   ]
  },
  {
   "cell_type": "code",
   "execution_count": 11,
   "metadata": {},
   "outputs": [
    {
     "data": {
      "text/plain": [
       "tensor([[[-0.7821,  1.0752,  0.4269, -0.1468],\n",
       "         [-0.7821,  1.0752,  0.4269, -0.1468]],\n",
       "\n",
       "        [[ 0.4429, -0.6634, -0.3814,  0.0851],\n",
       "         [ 0.4429, -0.6634, -0.3814,  0.0851]],\n",
       "\n",
       "        [[-0.6316,  0.0389,  0.8515,  1.0144],\n",
       "         [-0.6316,  0.0389,  0.8515,  1.0144]]])"
      ]
     },
     "execution_count": 11,
     "metadata": {},
     "output_type": "execute_result"
    }
   ],
   "source": [
    "a = a.expand(-1, 2, -1)\n",
    "a"
   ]
  },
  {
   "cell_type": "markdown",
   "metadata": {},
   "source": []
  }
 ],
 "metadata": {
  "kernelspec": {
   "display_name": "base",
   "language": "python",
   "name": "python3"
  },
  "language_info": {
   "codemirror_mode": {
    "name": "ipython",
    "version": 3
   },
   "file_extension": ".py",
   "mimetype": "text/x-python",
   "name": "python",
   "nbconvert_exporter": "python",
   "pygments_lexer": "ipython3",
   "version": "3.9.13 (main, Aug 25 2022, 23:51:50) [MSC v.1916 64 bit (AMD64)]"
  },
  "orig_nbformat": 4,
  "vscode": {
   "interpreter": {
    "hash": "7758e92e9a61d7a3490898707f7eeb937c85e9d1e8d4e877cc6c187218f226d5"
   }
  }
 },
 "nbformat": 4,
 "nbformat_minor": 2
}
